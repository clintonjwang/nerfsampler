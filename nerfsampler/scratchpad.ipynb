{
 "cells": [
  {
   "cell_type": "code",
   "execution_count": 1,
   "id": "5e428cad",
   "metadata": {},
   "outputs": [],
   "source": [
    "import matplotlib.pyplot as plt\n",
    "import os\n",
    "osp = os.path\n",
    "import torch\n",
    "import numpy as np\n",
    "from importlib import reload"
   ]
  },
  {
   "cell_type": "code",
   "execution_count": 2,
   "id": "e8944308",
   "metadata": {},
   "outputs": [],
   "source": [
    "import nerfsampler.inrs.mlp as mlp\n",
    "from nerfsampler import inn, RESULTS_DIR, TMP_DIR\n",
    "from nerfsampler.utils import util\n",
    "from nerfsampler.experiments import experiment\n",
    "from nerfsampler.utils import jobs\n",
    "from nerfsampler.utils import losses\n",
    "from nerfsampler.inn import point_set\n",
    "from nerfsampler.inrs import fit_video\n",
    "import nerfsampler.inn.functional as inrF\n",
    "%matplotlib inline\n",
    "plt.rcParams[\"figure.figsize\"] = (4.0, 3.0)\n",
    "plt.rcParams['figure.dpi'] = 200\n",
    "DS_DIR = osp.expandvars(\"$DS_DIR\")"
   ]
  },
  {
   "cell_type": "code",
   "execution_count": null,
   "id": "070d06e7",
   "metadata": {},
   "outputs": [],
   "source": [
    "bash train.sh warp_i3\n",
    "python train.py -c=gen_nn4\n",
    "bash infer.sh ival_mlp inet_val inet_mlp"
   ]
  },
  {
   "cell_type": "markdown",
   "id": "bba89007",
   "metadata": {},
   "source": [
    "# interactive"
   ]
  },
  {
   "cell_type": "markdown",
   "id": "4bd7f72a",
   "metadata": {},
   "source": [
    "### cmd line"
   ]
  },
  {
   "cell_type": "code",
   "execution_count": 4,
   "id": "054ba9ad",
   "metadata": {},
   "outputs": [
    {
     "name": "stderr",
     "output_type": "stream",
     "text": [
      "Failed to detect the name of this notebook, you can set it manually with the WANDB_NOTEBOOK_NAME environment variable to enable code saving.\n"
     ]
    },
    {
     "name": "stdout",
     "output_type": "stream",
     "text": [
      "Create sweep with ID: phqjr1sc\n",
      "Sweep URL: https://wandb.ai/clintonjwang/nerfsampler/sweeps/phqjr1sc\n"
     ]
    }
   ],
   "source": [
    "exp = experiment.create_sweep('fetal_nerf', target='recon_loss')"
   ]
  },
  {
   "cell_type": "code",
   "execution_count": null,
   "id": "aa6eff50",
   "metadata": {},
   "outputs": [],
   "source": [
    "exp = experiment.create_sweep('nuft_cls')"
   ]
  },
  {
   "cell_type": "code",
   "execution_count": null,
   "id": "ec1c13cf",
   "metadata": {},
   "outputs": [],
   "source": [
    "sbatch -a 1-8 -J phqjr1sc --export=ALL swfit.sh"
   ]
  },
  {
   "cell_type": "markdown",
   "id": "9979496c",
   "metadata": {
    "code_folding": []
   },
   "source": [
    "sbatch -a 1-2 -J ijh8rrnz --export=ALL,conf='inet_mlp' sweep.sh\n",
    "sbatch -a 1-10 -J qk7srlmo --export=ALL,conf='inet_nuft' sweep.sh\n",
    "sbatch -a 5-10 -J jxdlxoqf --export=ALL,conf='seg_hyper' sweep.sh\n",
    "sbatch -a 1-10 -J 8dp1ijae --export=ALL,conf='seg_nuft' sweep.sh"
   ]
  },
  {
   "cell_type": "code",
   "execution_count": null,
   "id": "841cb94d",
   "metadata": {},
   "outputs": [],
   "source": [
    "bash infer.sh ival_mlp ival_siren 3bvtijbi_1\n",
    "bash infer.sh seg_hyper3 seg_val_c jxdlxoqf_3\n",
    "bash infer.sh seg_nuft1 seg_val_c 3bvtijbi_1"
   ]
  },
  {
   "cell_type": "markdown",
   "id": "4bd7f72a",
   "metadata": {},
   "source": [
    "### nuft"
   ]
  },
  {
   "cell_type": "code",
   "execution_count": null,
   "id": "92ba4ee6",
   "metadata": {},
   "outputs": [],
   "source": [
    "util.glob2('/data/vision/polina/scratch/clintonw/datasets/DVR/ShapeNet/02691156/9705e3c2d21106ced7f23cd024f22c12')"
   ]
  },
  {
   "cell_type": "code",
   "execution_count": null,
   "id": "24f30eb4",
   "metadata": {},
   "outputs": [],
   "source": [
    "import torch\n",
    "import torchkbnufft as tkbn\n",
    "import numpy as np\n",
    "from skimage.data import shepp_logan_phantom\n",
    "pi = torch.pi\n",
    "x = shepp_logan_phantom().astype(complex)\n",
    "im_size = x.shape\n",
    "values = torch.tensor(x).unsqueeze(0).unsqueeze(0)\n",
    "\n",
    "plt.imshow(np.abs(values.squeeze().numpy()))\n"
   ]
  },
  {
   "cell_type": "code",
   "execution_count": null,
   "id": "25360f90",
   "metadata": {},
   "outputs": [],
   "source": [
    "nufft_ob = tkbn.KbNufftAdjoint(im_size)\n",
    "coords = torch.stack(torch.meshgrid(torch.linspace(-pi, pi, im_size[0]),\n",
    "    torch.linspace(-pi, pi, im_size[1])), dim=-1).reshape(-1, 2).float()\n",
    "ifft = nufft_ob(values.to(torch.complex64).flatten(-2), coords.transpose(0, 1))\n",
    "plt.imshow(np.abs(ifft.squeeze().numpy()))"
   ]
  },
  {
   "cell_type": "code",
   "execution_count": null,
   "id": "00550947",
   "metadata": {},
   "outputs": [],
   "source": [
    "recon = torch.fft.fftshift(torch.fft.fft2(ifft))\n",
    "plt.imshow(np.abs(recon.abs().squeeze().numpy()))"
   ]
  },
  {
   "cell_type": "code",
   "execution_count": null,
   "id": "447ed9c1",
   "metadata": {},
   "outputs": [],
   "source": []
  },
  {
   "cell_type": "markdown",
   "id": "a254bad6",
   "metadata": {
    "heading_collapsed": true
   },
   "source": [
    "### objectfolder"
   ]
  },
  {
   "cell_type": "code",
   "execution_count": null,
   "id": "7b5f3de0",
   "metadata": {
    "hidden": true
   },
   "outputs": [],
   "source": [
    "python OF_render.py --modality vision \\\n",
    "      --object_file_path /data/vision/polina/scratch/clintonw/datasets/objectfolder/ObjectFolder1-100/1/ObjectFile.pth \\\n",
    "      --vision_test_file_path ~/code/ObjectFolder/demo/vision_1.npy \\\n",
    "      --vision_results_dir ~/code/ObjectFolder/results\n"
   ]
  },
  {
   "cell_type": "code",
   "execution_count": 265,
   "id": "f7896fee",
   "metadata": {
    "hidden": true
   },
   "outputs": [],
   "source": [
    "x = torch.linspace(-1,1,16, dtype=torch.float, device='cuda')"
   ]
  },
  {
   "cell_type": "code",
   "execution_count": null,
   "id": "e900120f",
   "metadata": {
    "hidden": true
   },
   "outputs": [],
   "source": [
    "df['material'][0]"
   ]
  },
  {
   "cell_type": "code",
   "execution_count": 278,
   "id": "7ad15c63",
   "metadata": {
    "hidden": true
   },
   "outputs": [],
   "source": [
    "df = df[df['material'].isin(('Ceramic', 'Polycarbonate', 'Wood'))]"
   ]
  },
  {
   "cell_type": "code",
   "execution_count": null,
   "id": "9a1a5c55",
   "metadata": {
    "hidden": true
   },
   "outputs": [],
   "source": [
    "for n in df.index:\n",
    "    print(n)"
   ]
  },
  {
   "cell_type": "code",
   "execution_count": null,
   "id": "665678f7",
   "metadata": {
    "hidden": true
   },
   "outputs": [],
   "source": [
    "df = pd.read_csv(osp.expanduser('~/code/ObjectFolder/objects.csv'),\n",
    "                 names=['id', 'name', 'volume', 'material', 'url'], index_col=0)"
   ]
  },
  {
   "cell_type": "code",
   "execution_count": 256,
   "id": "a18de6a1",
   "metadata": {
    "hidden": true
   },
   "outputs": [],
   "source": [
    "df = pd.read_csv(osp.expanduser('~/code/ObjectFolder/objects300.csv'), index_col=0)"
   ]
  },
  {
   "cell_type": "code",
   "execution_count": 255,
   "id": "9dd2a307",
   "metadata": {
    "hidden": true
   },
   "outputs": [],
   "source": [
    "df[:300].to_csv(osp.expanduser('~/code/ObjectFolder/objects300.csv'))"
   ]
  },
  {
   "cell_type": "code",
   "execution_count": 224,
   "id": "2dfc0523",
   "metadata": {
    "hidden": true
   },
   "outputs": [],
   "source": [
    "out = np.load(osp.expanduser('~/code/ObjectFolder/demo/vision_1.npy'))"
   ]
  },
  {
   "cell_type": "code",
   "execution_count": null,
   "id": "156bd77e",
   "metadata": {
    "hidden": true
   },
   "outputs": [],
   "source": [
    "out"
   ]
  },
  {
   "cell_type": "code",
   "execution_count": 223,
   "id": "5d2b9eb9",
   "metadata": {
    "hidden": true
   },
   "outputs": [],
   "source": [
    "np.save(osp.expanduser('~/code/ObjectFolder/demo/vision_1.npy'), out[:1])"
   ]
  },
  {
   "cell_type": "code",
   "execution_count": null,
   "id": "a617422a",
   "metadata": {
    "hidden": true
   },
   "outputs": [],
   "source": [
    "bash train.sh gen_nn4 gen_nn4\n",
    "bash train.sh gen_i4 gen_i4\n",
    "python train.py -c=gen_nn4"
   ]
  },
  {
   "cell_type": "code",
   "execution_count": null,
   "id": "1ba7e3cf",
   "metadata": {
    "hidden": true
   },
   "outputs": [],
   "source": [
    "bash train.sh warp_inn warp_train\n",
    "bash train.sh warp_nn warp_nn"
   ]
  },
  {
   "cell_type": "markdown",
   "id": "d2766938",
   "metadata": {
    "heading_collapsed": true
   },
   "source": [
    "### random fourier features"
   ]
  },
  {
   "cell_type": "code",
   "execution_count": 16,
   "id": "5b9dbf92",
   "metadata": {
    "hidden": true
   },
   "outputs": [],
   "source": [
    "paths = util.glob2('/data/vision/polina/scratch/clintonw/datasets/inrnet/inet12/*/test_*.pt')\n",
    "# for path in paths:\n",
    "#     os.remove(path)"
   ]
  },
  {
   "cell_type": "code",
   "execution_count": null,
   "id": "c75d15a3",
   "metadata": {
    "hidden": true
   },
   "outputs": [],
   "source": [
    "path = '/data/vision/polina/scratch/clintonw/datasets/inrnet/cityscapes/fine_val_0.pt'\n",
    "sd,seg = torch.load(path)\n",
    "sinr = siren.Siren()\n",
    "sinr.load_state_dict(sd)\n",
    "sinr = siren.to_black_box([sinr])\n",
    "img = sinr.cuda().produce_images(256,256)"
   ]
  },
  {
   "cell_type": "code",
   "execution_count": 33,
   "id": "dc20d343",
   "metadata": {
    "hidden": true
   },
   "outputs": [],
   "source": [
    "path = '/data/vision/polina/scratch/clintonw/datasets/inrnet/inet12/6/val_4.pt'\n",
    "sd = torch.load(path)\n",
    "sinr = siren.Siren()\n",
    "sinr.load_state_dict(sd)\n",
    "sinr = siren.to_black_box([sinr])\n",
    "img = sinr.cuda().produce_images(256,256)"
   ]
  },
  {
   "cell_type": "code",
   "execution_count": 35,
   "id": "a0380ad9",
   "metadata": {
    "hidden": true
   },
   "outputs": [],
   "source": [
    "path = '/data/vision/polina/scratch/clintonw/datasets/inrnet/inet12/6/test_4.pt'\n",
    "sd = torch.load(path)\n",
    "inr = rff.RFFNet()\n",
    "inr.load_state_dict(sd)\n",
    "inr = rff.to_black_box([inr])\n",
    "img2 = inr.cuda().produce_images(256,256)"
   ]
  },
  {
   "cell_type": "code",
   "execution_count": null,
   "id": "8a068f08",
   "metadata": {
    "hidden": true
   },
   "outputs": [],
   "source": [
    "import imgviz\n",
    "labelviz_pred = imgviz.label2rgb(seg.max(0).indices)\n",
    "plt.imshow(labelviz_pred); plt.axis('off')"
   ]
  },
  {
   "cell_type": "code",
   "execution_count": null,
   "id": "1e615945",
   "metadata": {
    "hidden": true
   },
   "outputs": [],
   "source": [
    "util.imshow(img)"
   ]
  },
  {
   "cell_type": "code",
   "execution_count": null,
   "id": "c8aa9de7",
   "metadata": {
    "hidden": true
   },
   "outputs": [],
   "source": [
    "util.imshow(torch.cat(((img+1)/2, img2), dim=-1))"
   ]
  },
  {
   "cell_type": "code",
   "execution_count": 163,
   "id": "f3102aa7",
   "metadata": {
    "hidden": true
   },
   "outputs": [],
   "source": [
    "m = torchvision.models.resnet18(pretrained=False)"
   ]
  },
  {
   "cell_type": "markdown",
   "id": "6211a09e",
   "metadata": {
    "heading_collapsed": true
   },
   "source": [
    "### audio"
   ]
  },
  {
   "cell_type": "code",
   "execution_count": 92,
   "id": "047b7d70",
   "metadata": {
    "hidden": true
   },
   "outputs": [],
   "source": [
    "df = pd.read_csv(f'{DS_DIR}/environmental-sound-classification/esc50.csv')\n",
    "classes = np.array(df[['target', 'category']]).tolist()\n",
    "classes = set(['{} {}'.format(c[0], c[1]) for c in classes])\n",
    "classes = np.array([c.split(' ') for c in classes])\n",
    "classes = {k: v for k, v in classes}"
   ]
  },
  {
   "cell_type": "code",
   "execution_count": null,
   "id": "7a3c130b",
   "metadata": {
    "hidden": true
   },
   "outputs": [],
   "source": [
    "classes"
   ]
  },
  {
   "cell_type": "code",
   "execution_count": 95,
   "id": "b8aca694",
   "metadata": {
    "hidden": true
   },
   "outputs": [],
   "source": [
    "from inrnet.data.audio import utils\n",
    "ESC50 = utils.ESC50"
   ]
  },
  {
   "cell_type": "code",
   "execution_count": null,
   "id": "b089c54c",
   "metadata": {
    "hidden": true
   },
   "outputs": [],
   "source": [
    "train_splits = [1,2,3,4]\n",
    "test_split = 5\n",
    "\n",
    "shared_params = {'csv_path': f'{DS_DIR}/environmental-sound-classification/esc50.csv',\n",
    "                 'wav_dir': f'{DS_DIR}/environmental-sound-classification/audio',\n",
    "                 'dest_dir': f'{DS_DIR}/environmental-sound-classification/16000',\n",
    "                 'audio_rate': 16000,\n",
    "                 'only_ESC10': True,\n",
    "                 'pad': 0,\n",
    "                 'normalize': True}\n",
    "\n",
    "train_gen = ESC50(folds=train_splits,\n",
    "                  randomize=True,\n",
    "                  strongAugment=True,\n",
    "                  random_crop=True,\n",
    "                  inputLength=2,\n",
    "                  mix=True,\n",
    "                  **shared_params).batch_gen(16)\n",
    "\n",
    "test_gen = ESC50(folds=[test_split],\n",
    "                 randomize=False,\n",
    "                 strongAugment=False,\n",
    "                 random_crop=False,\n",
    "                 inputLength=4,\n",
    "                 mix=False,\n",
    "                 **shared_params).batch_gen(16)\n",
    "\n",
    "X, Y = next(train_gen)"
   ]
  },
  {
   "cell_type": "code",
   "execution_count": null,
   "id": "cf364dfd",
   "metadata": {
    "hidden": true
   },
   "outputs": [],
   "source": []
  },
  {
   "cell_type": "markdown",
   "id": "beaa6594",
   "metadata": {
    "heading_collapsed": true
   },
   "source": [
    "### fashionMNIST"
   ]
  },
  {
   "cell_type": "code",
   "execution_count": 36,
   "id": "760a99c6",
   "metadata": {
    "hidden": true
   },
   "outputs": [
    {
     "data": {
      "text/plain": [
       "60000"
      ]
     },
     "execution_count": 36,
     "metadata": {},
     "output_type": "execute_result"
    }
   ],
   "source": [
    "ds = torchvision.datasets.FashionMNIST(root=DS_DIR, train=True)#, transform=transforms.ToTensor())\n",
    "len(ds)\n",
    "#inr = siren.Siren(out_channels=1, C=64, first_omega_0=20, hidden_omega_0=20)\n",
    "# xy = util.meshgrid_coords(28,28, c2f=False)\n",
    "# r = xy.norm(dim=-1)\n",
    "# torch.sin(theta)\n",
    "# maxr_theta = min()\n",
    "# theta = torch.atan2(xy[:,1], xy[:,0])\n",
    "# theta.max()\n",
    "# plt.imshow(ds[0][0][0], cmap='gray')"
   ]
  },
  {
   "cell_type": "code",
   "execution_count": null,
   "id": "cf1095b5",
   "metadata": {
    "hidden": true
   },
   "outputs": [],
   "source": [
    "paths = [f\"{DS_DIR}/inrnet/fmnist/train_{ix}.pt\" for ix in range(60000)]\n",
    "paths = [p for p in paths if osp.exists(p)]"
   ]
  },
  {
   "cell_type": "code",
   "execution_count": 48,
   "id": "b14bd993",
   "metadata": {
    "hidden": true
   },
   "outputs": [],
   "source": [
    "for p in paths:\n",
    "    x = osp.basename(p)[:-3]\n",
    "    x = x[x.find('_')+1:]\n",
    "    ix = int(x)\n",
    "    ix_to_cls[ix] = torch.load(p)[1]\n",
    "    break"
   ]
  },
  {
   "cell_type": "code",
   "execution_count": 39,
   "id": "057a32f4",
   "metadata": {
    "hidden": true
   },
   "outputs": [],
   "source": [
    "torch.save(ix_to_cls, f\"{DS_DIR}/inrnet/fmnist/ix_to_cls.pt\")"
   ]
  },
  {
   "cell_type": "markdown",
   "id": "ab37bb7b",
   "metadata": {
    "heading_collapsed": true
   },
   "source": [
    "### warp"
   ]
  },
  {
   "cell_type": "code",
   "execution_count": 175,
   "id": "8a1801d3",
   "metadata": {
    "hidden": true
   },
   "outputs": [],
   "source": [
    "subset='train'\n",
    "paths = util.glob2(f\"{DS_DIR}/inrnet/oasis/{subset}_*_0.pt\")"
   ]
  },
  {
   "cell_type": "code",
   "execution_count": null,
   "id": "f9e94cb7",
   "metadata": {
    "hidden": true
   },
   "outputs": [],
   "source": [
    "torch.load(paths[0])[0]['net.4.weight'].shape"
   ]
  },
  {
   "cell_type": "code",
   "execution_count": null,
   "id": "f0153f2f",
   "metadata": {
    "hidden": true
   },
   "outputs": [],
   "source": [
    "labels = open('/data/vision/polina/scratch/clintonw/datasets/oasis/seg4_labels.txt', 'r')\n",
    "labels.readlines()\n",
    "\n",
    "orig_img /= orig_img.max()\n",
    "orig_seg = (seg==3).float()\n",
    "vf2df = DVF2DDF()\n",
    "warp = Warp()\n",
    "VFs = F.interpolate(torch.randn(3,2,H//16,W//16), scale_factor=16)*2 + \\\n",
    "      F.interpolate(torch.randn(3,2,H//8,W//8), scale_factor=8) + \\\n",
    "      F.interpolate(torch.randn(3,2,H//4,W//4), scale_factor=4)/2\n",
    "VFs[1:2] = VFs[:1]+VFs[1:2]\n",
    "VFs[2:3] = VFs[1:2]+VFs[2:3]\n",
    "w1 = warp(orig_img, vf2df(VFs[:1]))\n",
    "w2 = warp(orig_img, vf2df(VFs[1:2]))\n",
    "w3 = warp(orig_img, vf2df(VFs[2:3]))\n",
    "s1 = warp(orig_seg, vf2df(VFs[:1]))\n",
    "s2 = warp(orig_seg, vf2df(VFs[1:2]))\n",
    "s3 = warp(orig_seg, vf2df(VFs[2:3]))\n",
    "segs = (orig_seg.bool(), s1>.5, s2>.5, s3>.5)\n",
    "\n",
    "plt.imshow(s3.squeeze())"
   ]
  },
  {
   "cell_type": "markdown",
   "id": "64d0a8ff",
   "metadata": {
    "heading_collapsed": true
   },
   "source": [
    "### sympy"
   ]
  },
  {
   "cell_type": "code",
   "execution_count": 151,
   "id": "be5516b9",
   "metadata": {
    "hidden": true
   },
   "outputs": [],
   "source": [
    "from sympy import sin, cos, tan, exp, log, integrate\n",
    "from sympy.abc import a,b,c,n,m,x,y\n",
    "from sympy import Point, Polygon\n",
    "from sympy.integrals.intpoly import polytope_integrate"
   ]
  },
  {
   "cell_type": "code",
   "execution_count": 149,
   "id": "7009a71e",
   "metadata": {
    "hidden": true
   },
   "outputs": [],
   "source": [
    "from sympy.functions.special import polynomials, spherical_harmonics"
   ]
  },
  {
   "cell_type": "code",
   "execution_count": 173,
   "id": "80b1e244",
   "metadata": {
    "hidden": true
   },
   "outputs": [],
   "source": [
    "function = (3*polynomials.legendre(2, x)-2*polynomials.legendre(1, x) - 1) * \\\n",
    "    (.6*polynomials.legendre(4, y)-polynomials.legendre(1, y)+1.1)"
   ]
  },
  {
   "cell_type": "code",
   "execution_count": null,
   "id": "98793e74",
   "metadata": {
    "hidden": true
   },
   "outputs": [],
   "source": [
    "function"
   ]
  },
  {
   "cell_type": "code",
   "execution_count": 162,
   "id": "ea1805dc",
   "metadata": {
    "hidden": true
   },
   "outputs": [],
   "source": [
    "polygon = Polygon(Point(0, 0), Point(0, 1), Point(1, 1), Point(1, 0))\n",
    "# polys = [1, x, y, x*y, x**2*y, x*y**2]\n",
    "# expr = x*y"
   ]
  },
  {
   "cell_type": "code",
   "execution_count": 174,
   "id": "0ece5d14",
   "metadata": {
    "hidden": true
   },
   "outputs": [
    {
     "data": {
      "text/latex": [
       "$\\displaystyle \\text{NaN}$"
      ],
      "text/plain": [
       "nan"
      ]
     },
     "execution_count": 174,
     "metadata": {},
     "output_type": "execute_result"
    }
   ],
   "source": [
    "polytope_integrate(polygon, expr=function)"
   ]
  },
  {
   "cell_type": "code",
   "execution_count": 146,
   "id": "4fd10b19",
   "metadata": {
    "hidden": true
   },
   "outputs": [
    {
     "data": {
      "text/latex": [
       "$\\displaystyle \\frac{1}{4}$"
      ],
      "text/plain": [
       "1/4"
      ]
     },
     "execution_count": 146,
     "metadata": {},
     "output_type": "execute_result"
    }
   ],
   "source": [
    "polytope_integrate(polygon, expr=expr)"
   ]
  },
  {
   "cell_type": "code",
   "execution_count": 147,
   "id": "6a7fb1fe",
   "metadata": {
    "hidden": true
   },
   "outputs": [
    {
     "data": {
      "text/plain": [
       "{1: 1, x: 1/2, y: 1/2, x*y: 1/4, x**2*y: 1/6, x*y**2: 1/6}"
      ]
     },
     "execution_count": 147,
     "metadata": {},
     "output_type": "execute_result"
    }
   ],
   "source": [
    "polytope_integrate(polygon, polys, max_degree=3)"
   ]
  },
  {
   "cell_type": "code",
   "execution_count": null,
   "id": "b30ada89",
   "metadata": {
    "hidden": true
   },
   "outputs": [],
   "source": []
  },
  {
   "cell_type": "markdown",
   "id": "b92bdc5c",
   "metadata": {
    "heading_collapsed": true
   },
   "source": [
    "### inet12"
   ]
  },
  {
   "cell_type": "code",
   "execution_count": 3,
   "id": "2628a836",
   "metadata": {
    "hidden": true
   },
   "outputs": [],
   "source": [
    "from inrnet.models.inrs import siren\n",
    "keys = siren.get_siren_keys()"
   ]
  },
  {
   "cell_type": "code",
   "execution_count": 12,
   "id": "3e1e98b2",
   "metadata": {
    "hidden": true
   },
   "outputs": [],
   "source": [
    "from robustness.tools.imagenet_helpers import ImageNetHierarchy, common_superclass_wnid\n",
    "in_path = '/data/vision/polina/scratch/clintonw/datasets/imagenet_pytorch'\n",
    "in_hier = ImageNetHierarchy(in_path, in_path)\n",
    "superclass_wnid = common_superclass_wnid('big_12')\n",
    "class_ranges, label_map = in_hier.get_subclasses(superclass_wnid,\n",
    "                                                 balanced=True)"
   ]
  },
  {
   "cell_type": "code",
   "execution_count": 10,
   "id": "97d8a2b4",
   "metadata": {
    "hidden": true
   },
   "outputs": [],
   "source": [
    "subpaths = open(\"/data/vision/polina/scratch/clintonw/datasets/imagenet_pytorch/train.txt\",\n",
    "            \"r\").read().split('\\n')\n",
    "labels = open(\"/data/vision/polina/scratch/clintonw/datasets/imagenet_pytorch/labels.txt\",\n",
    "            \"r\").read().split('\\n')\n",
    "labels = [l[:l.find(',')] for l in labels[:-1]]\n",
    "class_labels = [np.array(labels)[list(cr)].tolist() for cr in class_ranges]"
   ]
  },
  {
   "cell_type": "code",
   "execution_count": null,
   "id": "e8c85014",
   "metadata": {
    "hidden": true
   },
   "outputs": [],
   "source": [
    "sub_to_super = {}\n",
    "for supercls,subclasses in enumerate(class_ranges):\n",
    "    for subcls in subclasses:\n",
    "        sub_to_super[subcls] = supercls\n",
    "\n",
    "# big12path = f\"{DS_DIR}/inrnet/big_12.pkl\"\n",
    "# pickle.dump((label_map, class_ranges, sub_to_super), open(big12path, 'wb'))\n",
    "# label_map, class_ranges, sub_to_super = pickle.load(open(big12path, 'rb'))"
   ]
  },
  {
   "cell_type": "code",
   "execution_count": null,
   "id": "32d9070c",
   "metadata": {
    "hidden": true
   },
   "outputs": [],
   "source": [
    "label_to_super = {}\n",
    "for supercls,subclasses in enumerate(class_labels):\n",
    "    for subcls in subclasses:\n",
    "        label_to_super[subcls] = supercls"
   ]
  },
  {
   "cell_type": "code",
   "execution_count": null,
   "id": "4dc7405f",
   "metadata": {
    "hidden": true
   },
   "outputs": [],
   "source": [
    "N = 800\n",
    "subpaths_by_cls = [[] for _ in range(12)]\n",
    "for path in subpaths:\n",
    "    label = osp.basename(osp.dirname(path))\n",
    "    if label in label_to_super.keys():\n",
    "        subpaths_by_cls[label_to_super[label]].append(path)\n",
    "\n",
    "for p in subpaths_by_cls:\n",
    "    np.random.shuffle(p)\n",
    "\n",
    "split_paths_by_cls = {'train':[p[:N] for p in subpaths_by_cls],\n",
    "                     'test':[p[N:] for p in subpaths_by_cls]}\n",
    "\n",
    "# big12path = f\"{DS_DIR}/inrnet/big_12_labels.pkl\"\n",
    "# pickle.dump((split_paths_by_cls, class_labels, label_to_super), open(big12path, 'wb'))\n",
    "# split_paths_by_cls, class_labels, label_to_super = pickle.load(open(big12path, 'rb'))"
   ]
  },
  {
   "cell_type": "code",
   "execution_count": 19,
   "id": "70d73b3e",
   "metadata": {
    "hidden": true
   },
   "outputs": [],
   "source": [
    "subpaths_by_cls = [[] for _ in range(12)]\n",
    "for path in subpaths:\n",
    "    label = osp.basename(osp.dirname(path))\n",
    "    if label in label_to_super.keys():\n",
    "        subpaths_by_cls[label_to_super[label]].append(path)\n",
    "\n",
    "for p in subpaths_by_cls:\n",
    "    np.random.shuffle(p)"
   ]
  },
  {
   "cell_type": "code",
   "execution_count": 26,
   "id": "c6d774b2",
   "metadata": {
    "hidden": true
   },
   "outputs": [],
   "source": [
    "N = 23400\n",
    "subpaths_by_cls = [p[:N] for p in subpaths_by_cls]"
   ]
  },
  {
   "cell_type": "code",
   "execution_count": 27,
   "id": "691a0c49",
   "metadata": {
    "hidden": true
   },
   "outputs": [],
   "source": [
    "big12path = f\"{DS_DIR}/inrnet/big_12_extra.pkl\"\n",
    "pickle.dump(subpaths_by_cls, open(big12path, 'wb'))\n",
    "# subpaths_by_cls = pickle.load(open(big12path, 'rb'))"
   ]
  },
  {
   "cell_type": "code",
   "execution_count": null,
   "id": "fba01dc2",
   "metadata": {
    "hidden": true
   },
   "outputs": [],
   "source": [
    "paths = util.glob2('/data/vision/polina/scratch/clintonw/datasets/inrnet/cityscapes/train_*.pt')\n",
    "for p in paths:\n",
    "    weights, seg = torch.load(p)\n",
    "    break"
   ]
  },
  {
   "cell_type": "markdown",
   "id": "69cb82f2",
   "metadata": {},
   "source": [
    "# Tables"
   ]
  },
  {
   "cell_type": "markdown",
   "id": "21213782",
   "metadata": {},
   "source": [
    "### Classify"
   ]
  },
  {
   "cell_type": "code",
   "execution_count": 13,
   "id": "ea3fa479",
   "metadata": {
    "code_folding": []
   },
   "outputs": [
    {
     "name": "stdout",
     "output_type": "stream",
     "text": [
      "DI-Net-2 & 32.2\\% & 32.9\\% & 30.9\\% & 33.6\\% & 33.4\\% & 33.8\\% \\\\\n"
     ]
    }
   ],
   "source": [
    "model_jobs = {\n",
    "    # 'Grid$\\\\to$Grid':('grid_to_grid',),\n",
    "    # 'Grid$\\\\to$QMC':('grid_to_qmc',),\n",
    "    # 'QMC$\\\\to$Grid':('qmc_to_grid',),\n",
    "    # 'QMC$\\\\to$QMC':('qmc_to_rqmc',),\n",
    "    # 'QMC$\\\\to$Shrunk':('qmc_to_hid',),\n",
    "    # 'Shrunk$\\\\to$QMC':('hid_to_qmc',),\n",
    "    # 'Shrunk$\\\\to$Shrunk':('hid_to_hid',),\n",
    "    # 'QMC$\\\\to$QMC':('ival_i2qq',),\n",
    "    # 'Grid$\\\\to$Grid':('ival_i2gg',),\n",
    "    # 'Shrunk$\\\\to$Shrunk':('ival_i2ss',),\n",
    "    # 'Grid$\\\\to$QMC':('ival_i2gq',),\n",
    "    # 'QMC$\\\\to$Grid':('ival_i2qg',),\n",
    "    # 'QMC$\\\\to$Shrunk':('ival_i2qs',),\n",
    "    # 'Shrunk$\\\\to$QMC':('ival_i2sq',),\n",
    "    # 'Grid$\\\\to$Shrunk':('ival_i2gs',),\n",
    "    # 'Shrunk$\\\\to$Grid':('ival_i2sg',),\n",
    "\n",
    "    'DI-Net-2':('ival_i2_half', 'ival_i2', 'ival_i2_1x5', 'ival_i2_2x', 'ival_i2_3x', 'ival_i2_4x'),\n",
    "    # 'DI-Net-4':('ival_i4_half', 'ival_i4', 'ival_i4_2x', 'ival_i4_3x', 'ival_i4_4x'),\n",
    "    # '2-layer CNN':('ival_nn2_half', 'ival_nn2', 'ival_nn2_2x', 'ival_nn2_3x', 'ival_nn2_4x'),\n",
    "    # '4-layer CNN':('ival_nn4_half', 'ival_nn4', 'ival_nn4_2x', 'ival_nn4_3x', 'ival_nn4_4x'),\n",
    "    # 'MLP':['ival_mlp'],\n",
    "    # 'NUFT':['ival_nuft'],\n",
    "\n",
    "#     '2-layer CNN':('i1x_nn2', 'i2x_nn2'),\n",
    "#     '4-layer CNN':('i1x_nn5', 'i2x_nn5'),\n",
    "#     f'\\modelname-2 (ours)':('i1x_i2', 'i2x_i2'),\n",
    "#     f'\\modelname-5 (ours)':('i1x_i5', 'i2x_i5'),\n",
    "    \n",
    "    # 'val set (SIRENs)':('is_i2','is_w2','is_a2','is_nn2'),\n",
    "    \n",
    "#     'EfficientNet \\cite{efficientnet}':('i1x_nn', 'i2x_nn'),\n",
    "#     'INR-ft (ours)':('i1x_inn', 'i2x_inn'),\n",
    "#     'INR-mlp (ours)':('i1x_mlp', 'i2x_mlp'),\n",
    "}\n",
    "N = 2304# 200*12\n",
    "df = pd.DataFrame(columns=['model','top3','res'])\n",
    "for model,row in model_jobs.items():\n",
    "    rowstr = [model]\n",
    "    for job in row:\n",
    "        # path = osp.join(RESULTS_DIR, job, \"stats.pt\")\n",
    "        path = osp.join(RESULTS_DIR, job, \"stats.txt\")\n",
    "        if not osp.exists(path):\n",
    "            print(f'missing {job} results at {path}')\n",
    "            rowstr.append(\"nan\")\n",
    "        else:\n",
    "            top3, top1, N, _ = map(float, open(path, 'r').read().split(', '))\n",
    "            # top1, top3 = torch.load(path)\n",
    "            rowstr.append(util.format_float(top1/N*100, n_decimals=1)+r\"\\%\")\n",
    "    print(' & '.join(map(str,rowstr)) + r' \\\\')\n",
    "#     if model.endswith('ours)'):\n",
    "#         print(r'\\hline')"
   ]
  },
  {
   "cell_type": "code",
   "execution_count": 11,
   "id": "68b8c38a",
   "metadata": {},
   "outputs": [
    {
     "data": {
      "text/plain": [
       "(703.0, 1340.0)"
      ]
     },
     "execution_count": 11,
     "metadata": {},
     "output_type": "execute_result"
    }
   ],
   "source": [
    "torch.load(path)"
   ]
  },
  {
   "cell_type": "code",
   "execution_count": 4,
   "id": "49cdf04d",
   "metadata": {},
   "outputs": [],
   "source": [
    "model_jobs = {\n",
    "    '2-layer DI-Net':('ival_i2_half', 'ival_i2', 'ival_i2_1x5', 'ival_i2_2x', 'ival_i2_2x5', 'ival_i2_3x'),# 'ival_i2_4x'),\n",
    "    '4-layer DI-Net':('ival_i4_half', 'ival_i4', 'ival_i4_1x5', 'ival_i4_2x', 'ival_i4_2x5', 'ival_i4_3x'),# 'ival_i4_4x'),\n",
    "    '2-layer CNN':(\n",
    "        'ival_nn2_half', 'ival_nn2', 'ival_nn2_1x5', 'ival_nn2_2x', 'ival_nn2_2x5', 'ival_nn2_3x'),# 'ival_nn2_4x'),\n",
    "    '4-layer CNN':('ival_nn4_half', 'ival_nn4', 'ival_nn4_1x5', 'ival_nn4_2x', 'ival_nn4_2x5', 'ival_nn4_3x'),# 'ival_nn4_4x'),\n",
    "}\n",
    "R = np.array([.5,1,1.5,2,2.5,3])*32\n",
    "df = pd.DataFrame(columns=['model','res','top3'])\n",
    "for model,row in model_jobs.items():\n",
    "    rowstr = [model]\n",
    "    for res,job in zip(R, row):\n",
    "        path = osp.join(RESULTS_DIR, job, \"stats.txt\")\n",
    "        if not osp.exists(path):\n",
    "            df.loc[len(df.index)] = [model, res, 0]\n",
    "        else:\n",
    "            top3, top1, N, _ = map(float, open(path, 'r').read().split(', '))\n",
    "            df.loc[len(df.index)] = [model, res, top1/N*100]"
   ]
  },
  {
   "cell_type": "code",
   "execution_count": 5,
   "id": "8be6755e",
   "metadata": {},
   "outputs": [
    {
     "name": "stderr",
     "output_type": "stream",
     "text": [
      "/tmp/ipykernel_1339/2422471987.py:10: UserWarning: FixedFormatter should only be used together with FixedLocator\n",
      "  ax.set_yticklabels(['{:,.0%}'.format(x/100) for x in vals]);\n"
     ]
    },
    {
     "data": {
      "image/png": "[encoded data removed]",
      "text/plain": [
       "<Figure size 800x600 with 1 Axes>"
      ]
     },
     "metadata": {},
     "output_type": "display_data"
    }
   ],
   "source": [
    "import seaborn as sns\n",
    "ax = sns.lineplot(x='res', y='top3', hue='model', data=df)\n",
    "ax.set_xlabel('Resolution')\n",
    "ax.set_ylabel('Top-1 Accuracy')\n",
    "ax.set_xlim(10, 102)\n",
    "ax.set_xticks(R)\n",
    "ax.set_xticklabels(list(map(lambda x:f\"${int(x)}^2$\", R)))\n",
    "ax.set_ylim(18, 46)\n",
    "vals = ax.get_yticks()\n",
    "ax.set_yticklabels(['{:,.0%}'.format(x/100) for x in vals]);\n",
    "ax.legend().set_title(None)"
   ]
  },
  {
   "cell_type": "code",
   "execution_count": null,
   "id": "a2929542",
   "metadata": {
    "code_folding": [
     0,
     5,
     10,
     16
    ]
   },
   "outputs": [],
   "source": [
    "jobs = [\"raw_m_rgae\", \"dit_m_rgae\", \"raw_m_caae\", \"dit_m_caae\",\n",
    "        \"raw_m_ipg\", \"dit_m_ipg\", \"raw_m_star\", \"dms_1\"]\n",
    "df = tables.get_results_table()\n",
    "subtable = df.loc[jobs]\n",
    "\n",
    "def latex_format(value, n_decimals=2, bold=False):\n",
    "    if bold:\n",
    "        return (r'$\\bm{{{0:.%df}}}$'%n_decimals).format(value)        \n",
    "    else:\n",
    "        return (r'${0:.%df}$'%n_decimals).format(value)\n",
    "def plus_minus_format(mean, std, n_decimals=2, bold=False):\n",
    "    if bold:\n",
    "        return (r'$\\bm{{{0:.%df}}}$\\scriptsize$\\bm{{\\pm {1:.%df}}}$'%(n_decimals, n_decimals)).format(mean, std)        \n",
    "    else:\n",
    "        return (r'${0:.%df}$\\scriptsize$\\pm {1:.%df}$'%(n_decimals, n_decimals)).format(mean, std)\n",
    "\n",
    "def print_row(name, row, bold=()):\n",
    "    field1 = latex_format(row[\"FID_tuned\"], bold=1 in bold)\n",
    "    field2 = latex_format(row[\"F_{1/8}\"], bold=2 in bold)\n",
    "    field3 = latex_format(row[\"F_8\"], bold=3 in bold)\n",
    "    field4 = plus_minus_format(row[\"age mean error\"], row[\"age error STD\"], bold=4 in bold)\n",
    "    print(\" & \".join([name, field1, field2, field3, field4]) + r\" \\\\\")"
   ]
  },
  {
   "cell_type": "markdown",
   "id": "6151b7c9",
   "metadata": {
    "heading_collapsed": true
   },
   "source": [
    "### Segment"
   ]
  },
  {
   "cell_type": "code",
   "execution_count": 75,
   "id": "422eae8d",
   "metadata": {
    "hidden": true
   },
   "outputs": [
    {
     "name": "stdout",
     "output_type": "stream",
     "text": [
      "ConvNexT & 0.429 & 68.1\\% \\\\\n",
      "INR-tuned & 0.376 & 68.7\\% \\\\\n"
     ]
    }
   ],
   "source": [
    "model_jobs = {\n",
    "#     'CNN-3':('scc_nn3c','scf_nn3',), #sff_nn3\n",
    "#     'INR-3 (ours)':('scc_i3c','scf_i3'),\n",
    "#     'CNN-5':('scc_nn5c','scf_nn5',),\n",
    "#     'INR-5 (ours)':('scc_i5c','scf_i5',),\n",
    "\n",
    "#     'Grid$\\\\to$QMC':['seg_g2q'],\n",
    "#     'Grid$\\\\to$Grid':['seg_g2g'],\n",
    "#     'QMC$\\\\to$Grid':['seg_q2g'],\n",
    "#     'QMC$\\\\to$QMC':['seg_q2q'],\n",
    "#     'Mask$\\\\to$Mask':['seg_m2m'],\n",
    "#     'Mask$\\\\to$QMC':['seg_m2q'],\n",
    "#     'Mask$\\\\to$Grid':['seg_m2g'],\n",
    "#     'QMC$\\\\to$Mask':['seg_q2m'],\n",
    "#     'Grid$\\\\to$Mask':['seg_g2m'],\n",
    "    \n",
    "    'ConvNexT':['sval_nn'],\n",
    "    'INR-tuned':['sval_cn'],#['sval_cn'],\n",
    "}\n",
    "for model,row in model_jobs.items():\n",
    "    rowstr = [model]\n",
    "    for job in row:\n",
    "        path = osp.join(RESULTS_DIR, job, \"stats.pt\")\n",
    "        if not osp.exists(path):\n",
    "            print(f'missing {job} results at {path}')\n",
    "            rowstr.append(\"nan\")\n",
    "        else:\n",
    "            iou, acc = torch.load(path)\n",
    "            rowstr.append(util.format_float(np.nanmean(iou), n_decimals=3))\n",
    "            rowstr.append(util.format_float(np.mean(acc)*100, n_decimals=1)+r\"\\%\")\n",
    "    print(' & '.join(map(str,rowstr)) + r' \\\\')\n",
    "#     if model.endswith('ours)'):\n",
    "#         print(r'\\hline')"
   ]
  },
  {
   "cell_type": "markdown",
   "id": "551200d6",
   "metadata": {
    "heading_collapsed": true
   },
   "source": [
    "### Generate"
   ]
  },
  {
   "cell_type": "code",
   "execution_count": null,
   "id": "c883c66d",
   "metadata": {
    "hidden": true
   },
   "outputs": [],
   "source": [
    "model_jobs = {'EffNet-T':('f1x_nn', 'f2x_nn', 'fhx_nn'),\n",
    "    'INR-tuned (ours)':('f1x_inn', 'f2x_inn', 'fhx_inn'),\n",
    "    'INR-scratch (ours)':('f1x_scr', 'f2x_scr', 'fhx_scr')}\n",
    "N = 200*12\n",
    "for model,row in model_jobs.items():\n",
    "    rowstr = [model]\n",
    "    for job in row:\n",
    "        path = osp.join(RESULTS_DIR, job, \"stats.pt\")\n",
    "        if not osp.exists(path):\n",
    "            print(f'missing {job} results at {path}')\n",
    "            rowstr.append(\"nan\")\n",
    "        else:\n",
    "            top1, top3 = torch.load(path)\n",
    "            rowstr.append(util.format_float(top3/N*100, n_decimals=1)+r\"\\%\")\n",
    "    print(' & '.join(map(str,rowstr)) + r' \\\\')"
   ]
  },
  {
   "cell_type": "code",
   "execution_count": null,
   "id": "f5695d4e",
   "metadata": {
    "hidden": true
   },
   "outputs": [],
   "source": []
  },
  {
   "cell_type": "markdown",
   "id": "68a2b3ce",
   "metadata": {},
   "source": [
    "# Figs"
   ]
  },
  {
   "cell_type": "markdown",
   "id": "6c29f095",
   "metadata": {
    "heading_collapsed": true
   },
   "source": [
    "## for framework"
   ]
  },
  {
   "cell_type": "code",
   "execution_count": null,
   "id": "3964c11b",
   "metadata": {
    "hidden": true
   },
   "outputs": [],
   "source": [
    "sampler = sqmc.Sobol(d=2, scramble=True)\n",
    "xy = sampler.random_base2(m=int(math.log2(256)))\n",
    "plt.rcParams[\"figure.figsize\"] = (1,1)\n",
    "fig,ax = plt.subplots()\n",
    "ax.scatter(xy[:,0], xy[:,1], s=2, c='k')\n",
    "ax.plot();\n",
    "plt.xlim(0,1)\n",
    "plt.ylim(0,1)\n",
    "plt.xticks([])\n",
    "plt.yticks([]);"
   ]
  },
  {
   "cell_type": "code",
   "execution_count": 48,
   "id": "74ffc6e3",
   "metadata": {
    "hidden": true
   },
   "outputs": [
    {
     "data": {
      "image/png": "[encoded data removed]",
      "text/plain": [
       "<Figure size 200x200 with 1 Axes>"
      ]
     },
     "metadata": {},
     "output_type": "display_data"
    }
   ],
   "source": [
    "sampler = sqmc.Halton(d=2, scramble=True)\n",
    "xy = sampler.random(n=256)\n",
    "plt.rcParams[\"figure.figsize\"] = (1,1)\n",
    "fig,ax = plt.subplots()\n",
    "ax.scatter(xy[:,0], xy[:,1], s=2, c='k')\n",
    "ax.plot();\n",
    "plt.xlim(0,1)\n",
    "plt.ylim(0,1)\n",
    "plt.xticks([])\n",
    "plt.yticks([]);"
   ]
  },
  {
   "cell_type": "code",
   "execution_count": 44,
   "id": "9c1d065a",
   "metadata": {
    "hidden": true,
    "scrolled": true
   },
   "outputs": [
    {
     "data": {
      "image/png": "[encoded data removed]",
      "text/plain": [
       "<Figure size 200x200 with 1 Axes>"
      ]
     },
     "metadata": {},
     "output_type": "display_data"
    }
   ],
   "source": [
    "xy = np.stack(np.meshgrid(np.linspace(.01, .99, 16), np.linspace(.01, .99, 16))).transpose().reshape(-1,2)\n",
    "plt.rcParams[\"figure.figsize\"] = (1,1)\n",
    "fig,ax = plt.subplots()\n",
    "ax.scatter(xy[:,0], xy[:,1], s=2, c='k')\n",
    "ax.plot();\n",
    "plt.xlim(0,1)\n",
    "plt.ylim(0,1)\n",
    "plt.xticks([])\n",
    "plt.yticks([]);"
   ]
  },
  {
   "cell_type": "code",
   "execution_count": 45,
   "id": "e56da18c",
   "metadata": {
    "hidden": true
   },
   "outputs": [
    {
     "data": {
      "image/png": "[encoded data removed]",
      "text/plain": [
       "<Figure size 200x200 with 1 Axes>"
      ]
     },
     "metadata": {},
     "output_type": "display_data"
    }
   ],
   "source": [
    "xy = np.random.rand(256,2)\n",
    "plt.rcParams[\"figure.figsize\"] = (1,1)\n",
    "fig,ax = plt.subplots()\n",
    "ax.scatter(xy[:,0], xy[:,1], s=2, c='k')\n",
    "ax.plot();\n",
    "plt.xlim(0,1)\n",
    "plt.ylim(0,1)\n",
    "plt.xticks([])\n",
    "plt.yticks([]);"
   ]
  },
  {
   "cell_type": "code",
   "execution_count": null,
   "id": "8921b500",
   "metadata": {
    "hidden": true
   },
   "outputs": [],
   "source": [
    "xy = qmc.generate_quasirandom_sequence(d=2, n=256, scramble=True)\n",
    "plt.rcParams[\"figure.figsize\"] = (1,1)\n",
    "fig,ax = plt.subplots()\n",
    "ax.scatter(xy[:,0], xy[:,1], s=2, c='k')\n",
    "ax.plot();"
   ]
  },
  {
   "cell_type": "markdown",
   "id": "6189d309",
   "metadata": {
    "hidden": true
   },
   "source": [
    "coords = gen_inr.parent(10).sampled_coords\n",
    "fig,ax = plt.subplots()\n",
    "ax.scatter(coords[:,0].cpu().numpy(), coords[:,1].cpu().numpy(), s=2, c='k')\n",
    "ax.plot();\n",
    "path = paths[\"job output dir\"]+f\"/imgs/{global_step}.png\"\n",
    "plt.savefig(path)"
   ]
  },
  {
   "cell_type": "code",
   "execution_count": null,
   "id": "10d1ae35",
   "metadata": {
    "hidden": true
   },
   "outputs": [],
   "source": [
    "kernel = model.features[0][0].weight[3,1].detach()\n",
    "plt.rcParams[\"figure.figsize\"] = (.5,.5)\n",
    "fig,ax = plt.subplots()\n",
    "print(kernel.min().item(), kernel.max().item())\n",
    "ax.imshow(kernel, vmin=-2.9, vmax=2.9);\n",
    "plt.axis('off');"
   ]
  },
  {
   "cell_type": "code",
   "execution_count": 100,
   "id": "fb67f524",
   "metadata": {
    "hidden": true
   },
   "outputs": [],
   "source": [
    "from scipy.interpolate import RectBivariateSpline as Spline2D\n",
    "K = [2.5,2.5]\n",
    "h,w=3,3\n",
    "bbox = (-K[0]/2, K[0]/2, -K[1]/2, K[1]/2)\n",
    "x,y = (np.linspace(bbox[0]/h*(h-1), bbox[1]/h*(h-1), h),\n",
    "       np.linspace(bbox[2]/w*(w-1), bbox[3]/w*(w-1), w))\n",
    "bs = Spline2D(x,y, kernel, bbox=bbox, kx=2,ky=2, s=0)\n",
    "tx,ty,c = [torch.tensor(z).float() for z in bs.tck]\n",
    "c = c.reshape(h,w)"
   ]
  },
  {
   "cell_type": "code",
   "execution_count": 106,
   "id": "f39f39d0",
   "metadata": {
    "hidden": true
   },
   "outputs": [],
   "source": [
    "H = 50\n",
    "xy = util.meshgrid_coords(H,H).cpu()\n",
    "w_oi = []\n",
    "X = xy[:,0].unsqueeze(1)\n",
    "Y = xy[:,1].unsqueeze(1)\n",
    "px = py = 2\n",
    "\n",
    "values, kx = (tx<=X).min(dim=-1)\n",
    "values, ky = (ty<=Y).min(dim=-1)\n",
    "kx -= 1\n",
    "ky -= 1\n",
    "kx[values] = tx.size(-1)-px-2\n",
    "ky[values] = ty.size(-1)-py-2\n",
    "\n",
    "Ctrl = c.view(1, *c.shape[-2:])\n",
    "for z in range(X.size(0)):\n",
    "    D = Ctrl[:, kx[z]-px : kx[z]+1, ky[z]-py : ky[z]+1].clone()\n",
    "\n",
    "    for r in range(1, px + 1):\n",
    "        try:\n",
    "            alphax = (X[z,0] - tx[kx[z]-px+1:kx[z]+1]) / (\n",
    "                tx[2+kx[z]-r:2+kx[z]-r+px] - tx[kx[z]-px+1:kx[z]+1])\n",
    "        except RuntimeError:\n",
    "            print(\"input off the grid\")\n",
    "        for j in range(px, r - 1, -1):\n",
    "            D[:,j] = (1-alphax[j-1]) * D[:,j-1] + alphax[j-1] * D[:,j].clone()\n",
    "\n",
    "    for r in range(1, py + 1):\n",
    "        alphay = (Y[z,0] - ty[ky[z]-py+1:ky[z]+1]) / (\n",
    "            ty[2+ky[z]-r:2+ky[z]-r+py] - ty[ky[z]-py+1:ky[z]+1])\n",
    "        for j in range(py, r-1, -1):\n",
    "            D[:,px,j] = (1-alphay[j-1]) * D[:,px,j-1].clone() + alphay[j-1] * D[:,px,j].clone()\n",
    "\n",
    "    w_oi.append(D[:,px,py])\n",
    "\n",
    "w = torch.stack(w_oi).view(xy.size(0))"
   ]
  },
  {
   "cell_type": "code",
   "execution_count": 107,
   "id": "1cc8ca3d",
   "metadata": {
    "hidden": true
   },
   "outputs": [],
   "source": [
    "k = w.reshape(H,H)"
   ]
  },
  {
   "cell_type": "code",
   "execution_count": null,
   "id": "8961df22",
   "metadata": {
    "hidden": true
   },
   "outputs": [],
   "source": [
    "fig,ax = plt.subplots()\n",
    "print(k.min().item(), k.max().item())\n",
    "ax.imshow(k, vmin=-2.9, vmax=2.9);\n",
    "plt.axis('off');"
   ]
  },
  {
   "cell_type": "code",
   "execution_count": null,
   "id": "de4ba2b8",
   "metadata": {
    "hidden": true
   },
   "outputs": [],
   "source": []
  },
  {
   "cell_type": "markdown",
   "id": "aed6db6b",
   "metadata": {
    "heading_collapsed": true
   },
   "source": [
    "## analysis"
   ]
  },
  {
   "cell_type": "markdown",
   "id": "13e8d923",
   "metadata": {},
   "source": [
    "### discrepancy of grid vs QMC"
   ]
  },
  {
   "cell_type": "code",
   "execution_count": null,
   "id": "f5420dc7",
   "metadata": {},
   "outputs": [],
   "source": [
    "n = np.arange(4,256)\n",
    "nsub = np.array([4,8,16,32,64,128,256])\n",
    "N = n**2\n",
    "D_grid = 2/N - 1/(N+1)\n",
    "D_qmc = 0.23335 * np.log(N) / N"
   ]
  },
  {
   "cell_type": "code",
   "execution_count": null,
   "id": "ac92f2db",
   "metadata": {},
   "outputs": [],
   "source": [
    "sns.lineplot(x=np.log(N), y=np.log(D_grid), label='grid')\n",
    "sns.lineplot(x=np.log(N), y=np.log(D_qmc), label='QMC')\n",
    "plt.xticks(np.log(nsub**2), map(lambda x: f'${x}^2$',nsub));"
   ]
  },
  {
   "cell_type": "code",
   "execution_count": null,
   "id": "56f2e298",
   "metadata": {
    "hidden": true
   },
   "outputs": [],
   "source": [
    "\n",
    "classify.analyze_change_resolution_grid_vs_qmc()"
   ]
  },
  {
   "cell_type": "code",
   "execution_count": null,
   "id": "c2fe1c43",
   "metadata": {
    "hidden": true
   },
   "outputs": [],
   "source": [
    "ax = sns.lineplot(x=torch.linspace(128,256,10), y=torch.linspace(.5,.8,10)+torch.randn(10)/8, label=\"qmc\");\n",
    "sns.lineplot(x=torch.linspace(128,256,10), y=torch.linspace(.1,.8,10)+torch.randn(10)/8, label=\"grid\", ax=ax);\n",
    "ax.set_xlabel(\"Number of sample points\");\n",
    "ax.set_ylabel(\"ImageNet top-1 error\");"
   ]
  },
  {
   "cell_type": "markdown",
   "id": "fce8b914",
   "metadata": {},
   "source": [
    "### approximation error of integral over grid vs QMC"
   ]
  },
  {
   "cell_type": "code",
   "execution_count": 95,
   "id": "e5c0a4f4",
   "metadata": {},
   "outputs": [],
   "source": [
    "paths = ['../temp/1.jpg', '../temp/2.jpg', '../temp/3.jpg', '../temp/4.jpg',\n",
    "'../temp/1.png', '../temp/2.png', '../temp/3.png']\n",
    "data = pd.DataFrame(columns=['Discretization', 'Resolution', 'Integral Error'])\n",
    "nlist = [16,32,64,128,256]\n",
    "for path in paths:\n",
    "    img = Image.open(path)\n",
    "    img = transforms.ToTensor()(img)\n",
    "    img /= img.flatten(1).mean(1).unsqueeze(1).unsqueeze(1)\n",
    "    for n in nlist:\n",
    "        small = transforms.Resize((n,n), transforms.InterpolationMode.NEAREST)(img).flatten(1)\n",
    "        coords = point_set.gen_LD_seq_bbox(n=n*n, bbox=((0, img.size(1)), (0, img.size(2))), scramble=True)\n",
    "        coo = torch.floor(coords).long()\n",
    "        qmc_img = img[...,coo[:,0], coo[:,1]]\n",
    "        grid_err = (small.mean(1) - 1).abs().mean().item()\n",
    "        qmc_err = (qmc_img.mean(1) - 1).abs().mean().item()\n",
    "        data.loc[len(data)] = ['Grid', n, grid_err]\n",
    "        data.loc[len(data)] = ['QMC', n, qmc_err]"
   ]
  },
  {
   "cell_type": "code",
   "execution_count": 108,
   "id": "852163cb",
   "metadata": {},
   "outputs": [
    {
     "data": {
      "image/png": "[encoded data removed]",
      "text/plain": [
       "<Figure size 800x600 with 1 Axes>"
      ]
     },
     "metadata": {},
     "output_type": "display_data"
    }
   ],
   "source": [
    "sns.barplot(data=data, x='Resolution', y='Integral Error', hue='Discretization');\n",
    "yy = plt.yticks()[0][:-1]\n",
    "plt.yticks(yy, map(lambda x: f'{x*100:.0f}%', yy));\n",
    "xx = plt.xticks()[0]\n",
    "plt.xticks(plt.xticks()[0], map(lambda x: f'${x}^2$',nlist));"
   ]
  },
  {
   "cell_type": "code",
   "execution_count": null,
   "id": "3047cd84",
   "metadata": {},
   "outputs": [],
   "source": [
    "n = np.arange(4,256)\n",
    "nsub = np.array([4,8,16,32,64,128,256])\n",
    "N = n**2"
   ]
  },
  {
   "cell_type": "markdown",
   "id": "914dd458",
   "metadata": {
    "hidden": true
   },
   "source": [
    "### Deviation over depth"
   ]
  },
  {
   "cell_type": "markdown",
   "id": "d8e9987b",
   "metadata": {
    "hidden": true
   },
   "source": [
    "### Resolution vs. output (grid & QMC)"
   ]
  },
  {
   "cell_type": "code",
   "execution_count": 42,
   "id": "7a0b2ec8",
   "metadata": {
    "hidden": true
   },
   "outputs": [],
   "source": [
    "base_logits, grid_logits, grid_masks, qmc_logits, qmc_masks = torch.load(osp.expandvars(\n",
    "    '$NFS/code/diffcoord/temp/change_resolution_grid_vs_qmc.pt'))"
   ]
  },
  {
   "cell_type": "code",
   "execution_count": 43,
   "id": "1700eb06",
   "metadata": {
    "hidden": true
   },
   "outputs": [],
   "source": [
    "grid_dists = (torch.cat(grid_logits, dim=0) - base_logits.cpu()).norm(dim=-1)\n",
    "qmc_dists = (torch.cat(qmc_logits, dim=0) - base_logits.cpu()).norm(dim=-1)"
   ]
  },
  {
   "cell_type": "code",
   "execution_count": 46,
   "id": "0710271d",
   "metadata": {
    "hidden": true
   },
   "outputs": [],
   "source": [
    "RES = np.round(np.logspace(4, 8, num=9, base=2)).astype(int)"
   ]
  },
  {
   "cell_type": "code",
   "execution_count": null,
   "id": "5ae34d28",
   "metadata": {
    "hidden": true
   },
   "outputs": [],
   "source": [
    "plt.rcParams[\"figure.figsize\"] = (2.0, 1.5)\n",
    "x = np.arange(7)\n",
    "plt.plot(x,qmc_dists[1:], label='qmc');\n",
    "plt.plot(x,grid_dists[1:], label='grid');\n",
    "plt.xticks(ticks=[1,3,5],labels=(32,64,128))\n",
    "plt.yticks([]);\n",
    "# plt.legend()"
   ]
  },
  {
   "cell_type": "code",
   "execution_count": null,
   "id": "22a60e55",
   "metadata": {
    "hidden": true
   },
   "outputs": [],
   "source": [
    "grid_dists"
   ]
  },
  {
   "cell_type": "code",
   "execution_count": null,
   "id": "ec1b48a7",
   "metadata": {
    "hidden": true
   },
   "outputs": [],
   "source": [
    "torch.sort(base_logits[0]).indices"
   ]
  },
  {
   "cell_type": "code",
   "execution_count": null,
   "id": "74736508",
   "metadata": {
    "hidden": true
   },
   "outputs": [],
   "source": [
    "torch.sort(qmc_logits[-1][0]).indices"
   ]
  },
  {
   "cell_type": "code",
   "execution_count": null,
   "id": "5170b724",
   "metadata": {
    "hidden": true
   },
   "outputs": [],
   "source": [
    "plt.bar(grid_dists)"
   ]
  },
  {
   "cell_type": "code",
   "execution_count": 208,
   "id": "5b164d3f",
   "metadata": {
    "hidden": true
   },
   "outputs": [],
   "source": [
    "front_g_m = torch.stack([m[0].float().mean() for m in grid_masks], dim=0)\n",
    "front_g_s = torch.stack([m[0].float().std() for m in grid_masks], dim=0)\n",
    "back_g_m = torch.stack([m[1].float().mean() for m in grid_masks], dim=0)\n",
    "back_g_s = torch.stack([m[1].float().std() for m in grid_masks], dim=0)"
   ]
  },
  {
   "cell_type": "code",
   "execution_count": null,
   "id": "1a5565c9",
   "metadata": {
    "hidden": true
   },
   "outputs": [],
   "source": [
    "front_g_m, front_g_s"
   ]
  },
  {
   "cell_type": "code",
   "execution_count": null,
   "id": "928d7de4",
   "metadata": {
    "hidden": true
   },
   "outputs": [],
   "source": [
    "back_g_m, back_g_s"
   ]
  },
  {
   "cell_type": "code",
   "execution_count": 185,
   "id": "e2170c8a",
   "metadata": {
    "hidden": true
   },
   "outputs": [],
   "source": [
    "front_q_m = torch.stack([m[0].float().mean() for m in qmc_masks], dim=0)\n",
    "front_q_s = torch.stack([m[0].float().std() for m in qmc_masks], dim=0)\n",
    "back_q_m = torch.stack([m[1].float().mean() for m in qmc_masks], dim=0)\n",
    "back_q_s = torch.stack([m[1].float().std() for m in qmc_masks], dim=0)"
   ]
  },
  {
   "cell_type": "code",
   "execution_count": null,
   "id": "3da5716a",
   "metadata": {
    "hidden": true
   },
   "outputs": [],
   "source": [
    "front_q_m, front_q_s"
   ]
  },
  {
   "cell_type": "code",
   "execution_count": null,
   "id": "fdc24e3e",
   "metadata": {
    "hidden": true
   },
   "outputs": [],
   "source": [
    "back_q_m, back_q_s"
   ]
  },
  {
   "cell_type": "markdown",
   "id": "77dc80d8",
   "metadata": {
    "hidden": true
   },
   "source": [
    "### RQMC variance"
   ]
  },
  {
   "cell_type": "code",
   "execution_count": 37,
   "id": "743bde36",
   "metadata": {
    "hidden": true
   },
   "outputs": [],
   "source": [
    "base_logits, logits, masks = torch.load(osp.expanduser('~/code/diffcoord/temp/output_variance_rqmc.pt'))"
   ]
  },
  {
   "cell_type": "code",
   "execution_count": 38,
   "id": "23a1681d",
   "metadata": {
    "hidden": true
   },
   "outputs": [],
   "source": [
    "logit_dists = (torch.cat(logits, dim=0) - base_logits.cpu()).norm(dim=-1)"
   ]
  },
  {
   "cell_type": "code",
   "execution_count": null,
   "id": "3a317623",
   "metadata": {
    "hidden": true
   },
   "outputs": [],
   "source": [
    "base_logits"
   ]
  },
  {
   "cell_type": "code",
   "execution_count": null,
   "id": "c157d50b",
   "metadata": {
    "hidden": true
   },
   "outputs": [],
   "source": [
    "logit_dists"
   ]
  },
  {
   "cell_type": "code",
   "execution_count": null,
   "id": "619a0777",
   "metadata": {
    "hidden": true
   },
   "outputs": [],
   "source": [
    "fronts = torch.stack([m[0] for m in masks], dim=0).float()\n",
    "backs = torch.stack([m[1] for m in masks], dim=0).float()"
   ]
  },
  {
   "cell_type": "code",
   "execution_count": null,
   "id": "970243e7",
   "metadata": {
    "hidden": true
   },
   "outputs": [],
   "source": [
    "fronts.mean(1), fronts.std(1), fronts.amin(1), fronts.amax(1)"
   ]
  },
  {
   "cell_type": "code",
   "execution_count": null,
   "id": "46c1cad2",
   "metadata": {
    "hidden": true
   },
   "outputs": [],
   "source": [
    "backs.mean(1), backs.std(1), backs.amin(1), backs.amax(1)"
   ]
  },
  {
   "cell_type": "code",
   "execution_count": null,
   "id": "d28a86d9",
   "metadata": {
    "hidden": true
   },
   "outputs": [],
   "source": []
  },
  {
   "cell_type": "markdown",
   "id": "6a6da528",
   "metadata": {
    "heading_collapsed": true,
    "hidden": true
   },
   "source": [
    "### grid-QMC interpolation"
   ]
  },
  {
   "cell_type": "code",
   "execution_count": null,
   "id": "719dc546",
   "metadata": {
    "hidden": true
   },
   "outputs": [],
   "source": [
    "base_logits, grid_logits, grid_mask, qmc_logits, qmc_mask, intermediate_logits, intermediate_masks = torch.load(osp.expanduser('~/code/diffcoord/temp/analyze_logit_mismatch.pt'))\n",
    "\n",
    "x = np.arange(0,1.01,.05)\n",
    "fronts = torch.stack([grid_mask[0], *[m[0] for m in intermediate_masks[::-1]], qmc_mask[0]], dim=0).float()\n",
    "backs = torch.stack([grid_mask[1], *[m[1] for m in intermediate_masks[::-1]], qmc_mask[1]], dim=0).float()\n",
    "f_m, f_s = fronts.mean(1), fronts.std(1)\n",
    "b_m, b_s = backs.mean(1), backs.std(1)\n",
    "\n",
    "fig,ax = plt.subplots()\n",
    "width = .007\n",
    "ax.errorbar(x-width/2, f_m, yerr=f_s, label='front')\n",
    "ax.errorbar(x+width/2, b_m, yerr=b_s, label='back')"
   ]
  },
  {
   "cell_type": "code",
   "execution_count": 211,
   "id": "e8cf6d9e",
   "metadata": {
    "hidden": true,
    "scrolled": true
   },
   "outputs": [
    {
     "data": {
      "image/png": "[encoded data removed]",
      "text/plain": [
       "<Figure size 200x200 with 1 Axes>"
      ]
     },
     "metadata": {
      "needs_background": "light"
     },
     "output_type": "display_data"
    }
   ],
   "source": [
    "y = (torch.cat([grid_logits, *intermediate_logits[::-1], qmc_logits], dim=0) - base_logits.cpu()).norm(dim=1)\n",
    "plt.plot(x,y);\n",
    "plt.xticks(ticks=[0,1],labels=('',''))\n",
    "plt.yticks([]);"
   ]
  },
  {
   "cell_type": "markdown",
   "id": "29d940a7",
   "metadata": {
    "heading_collapsed": true
   },
   "source": [
    "# slurm"
   ]
  },
  {
   "cell_type": "code",
   "execution_count": 45,
   "id": "6bda67bc",
   "metadata": {
    "hidden": true
   },
   "outputs": [],
   "source": [
    "coco_len = 118287\n",
    "kitti_len = 80896\n",
    "horse_len = 1067\n",
    "zebra_len = 1334\n",
    "inet_len = 50000\n",
    "in_tr_len = 50000"
   ]
  },
  {
   "cell_type": "code",
   "execution_count": null,
   "id": "e54b6c75",
   "metadata": {
    "hidden": true
   },
   "outputs": [],
   "source": [
    "for ix in range(0,places_len,800):\n",
    "    if not osp.exists(f\"/data/vision/polina/scratch/clintonw/datasets/inrnet/places/siren_{ix+63}.pt\"):\n",
    "        print(\"sh fit_inr.sh\", f\"place{ix//800}\", \"fit_places\", ix)"
   ]
  },
  {
   "cell_type": "code",
   "execution_count": null,
   "id": "9ae78790",
   "metadata": {
    "hidden": true
   },
   "outputs": [],
   "source": [
    "for ix in range(0,in_tr_len,800):\n",
    "    if not osp.exists(f\"/data/vision/polina/scratch/clintonw/datasets/inrnet/imagenet1k_train/siren_{ix+63}.pt\"):\n",
    "        print(\"sh fit_inr.sh\", f\"inet{ix//800}\", \"fit_in_tr\", ix)"
   ]
  },
  {
   "cell_type": "code",
   "execution_count": null,
   "id": "9acfddc6",
   "metadata": {
    "hidden": true
   },
   "outputs": [],
   "source": [
    "for ix in range(0,60000,5000):\n",
    "    if not osp.exists(f\"/data/vision/polina/scratch/clintonw/datasets/inrnet/fmnist/train_{ix+1}.pt\"):\n",
    "        print(\"sh fit_inr.sh\", f\"fmn{ix//5000}\", \"fit_fmnist\", ix)"
   ]
  },
  {
   "cell_type": "code",
   "execution_count": null,
   "id": "1f5b53ce",
   "metadata": {
    "code_folding": [],
    "hidden": true
   },
   "outputs": [],
   "source": [
    "for ix in range(0,12000,100):\n",
    "    c,i=ix//1000, ix%1000\n",
    "    if i >= 800:\n",
    "        i-=800\n",
    "        s='val'\n",
    "    else:\n",
    "        s='train'\n",
    "    if not osp.exists(f\"/data/vision/polina/scratch/clintonw/datasets/inrnet/inet12/{c}/{s}_{i+3}.pt\"):\n",
    "        print(\"sh fit_inr.sh\", f\"inet{ix//100}\", \"fit_i12\", ix)"
   ]
  },
  {
   "cell_type": "code",
   "execution_count": 35,
   "id": "3064a197",
   "metadata": {
    "hidden": true
   },
   "outputs": [],
   "source": [
    "for ix in range(0,2400,50):\n",
    "    c,i = ix%12, ix//12\n",
    "    if not osp.exists(f\"/data/vision/polina/scratch/clintonw/datasets/inrnet/inet12/{c}/test_{i+1}.pt\"):\n",
    "        print(\"sh fit_inr.sh\", f\"rff{ix//50}\", \"fit_in_rff\", ix)"
   ]
  },
  {
   "cell_type": "code",
   "execution_count": null,
   "id": "4595185c",
   "metadata": {
    "hidden": true
   },
   "outputs": [],
   "source": [
    "#23400 * 12 = 280800 total images\n",
    "#15000/12 + 800 = 2050 current images per class\n",
    "for ix in range(36000,48000,100):\n",
    "    cls, start_ix = ix % 12, ix // 12 + 800\n",
    "    if not osp.exists(f\"/data/vision/polina/scratch/clintonw/datasets/inrnet/inet12/{cls}/train_{start_ix+4}.pt\"):\n",
    "        print(\"sh fit_inr.sh\", f\"inet{ix//100}\", \"fit_i12\", ix)"
   ]
  },
  {
   "cell_type": "code",
   "execution_count": null,
   "id": "fe84027d",
   "metadata": {
    "code_folding": [
     0
    ],
    "hidden": true
   },
   "outputs": [],
   "source": [
    "for ix in range(0,8189,100):\n",
    "    i = ix\n",
    "    if i < 1020:\n",
    "        s='train'\n",
    "    elif i < 2040:\n",
    "        s='val'\n",
    "        i -= 1020\n",
    "    else:\n",
    "        s='test'\n",
    "        i -= 2040\n",
    "    if not osp.exists(f\"/data/vision/polina/scratch/clintonw/datasets/inrnet/flowers/{s}_{i+50}.pt\"):\n",
    "        print(\"sh fit_inr.sh\", f\"flow{ix//100}\", \"fit_flower\", ix)"
   ]
  },
  {
   "cell_type": "code",
   "execution_count": null,
   "id": "7215c526",
   "metadata": {
    "hidden": true
   },
   "outputs": [],
   "source": [
    "for ix in range(3475,4475,100):\n",
    "    i = ix\n",
    "    if i >= 2975:\n",
    "        i -= 2975\n",
    "        s = 'val'\n",
    "    else:\n",
    "        s = 'train'\n",
    "        i -= 500\n",
    "    if not osp.exists(f\"/data/vision/polina/scratch/clintonw/datasets/inrnet/cityscapes/{s}_{i+1}.pt\"):\n",
    "        print(\"sh fit_inr.sh\", f\"city{ix//100}\", \"fit_city\", ix)"
   ]
  },
  {
   "cell_type": "code",
   "execution_count": 46,
   "id": "13166e6f",
   "metadata": {
    "hidden": true
   },
   "outputs": [],
   "source": [
    "for ix in range(0,inet_len,800):\n",
    "    if not osp.exists(f\"/data/vision/polina/scratch/clintonw/datasets/inrnet/imagenet1k_val/siren_{ix+63}.pt\"):\n",
    "        print(\"sh fit_inr.sh\", f\"inet{ix//800}\", \"fit_inet\", ix)"
   ]
  },
  {
   "cell_type": "code",
   "execution_count": 37,
   "id": "faec908c",
   "metadata": {
    "hidden": true
   },
   "outputs": [],
   "source": [
    "x[0,0] = 1"
   ]
  },
  {
   "cell_type": "code",
   "execution_count": null,
   "id": "73b6b92f",
   "metadata": {
    "code_folding": [
     0
    ],
    "hidden": true
   },
   "outputs": [],
   "source": [
    "for ix in range(0,coco_len,1600):\n",
    "    if not osp.exists(f\"/data/vision/polina/scratch/clintonw/datasets/inrnet/coco/siren_{ix+63}.pt\"):\n",
    "        print(\"sh fit_inr.sh\", f\"coco{ix//1600}\", \"fit_coco\", ix)"
   ]
  },
  {
   "cell_type": "code",
   "execution_count": null,
   "id": "00b852ca",
   "metadata": {
    "hidden": true
   },
   "outputs": [],
   "source": [
    "for ix in range(0,kitti_len,800):\n",
    "    if not osp.exists(f\"/data/vision/polina/scratch/clintonw/datasets/inrnet/kitti/siren_{ix+63}.pt\"):\n",
    "        print(\"sh fit_inr.sh\", f\"skit{ix//800}\", \"fit_kitti\", ix)"
   ]
  },
  {
   "cell_type": "code",
   "execution_count": null,
   "id": "1bc286a5",
   "metadata": {
    "hidden": true
   },
   "outputs": [],
   "source": [
    "for ix in range(0,zebra_len,128):\n",
    "    if not osp.exists(f\"/data/vision/polina/scratch/clintonw/datasets/inrnet/zebra/siren_{ix+15}.pt\"):\n",
    "        print(\"sh fit_inr.sh\", f\"zebra{ix//128}\", \"fit_zebra\", ix)"
   ]
  },
  {
   "cell_type": "code",
   "execution_count": null,
   "id": "004877cd",
   "metadata": {
    "hidden": true
   },
   "outputs": [],
   "source": [
    "for ix in range(0,horse_len,128):\n",
    "    if not osp.exists(f\"/data/vision/polina/scratch/clintonw/datasets/inrnet/horse/siren_{ix+15}.pt\"):\n",
    "        print(\"sh fit_inr.sh\", f\"horse{ix//128}\", \"fit_horse\", ix)"
   ]
  },
  {
   "cell_type": "code",
   "execution_count": null,
   "id": "ef320b86",
   "metadata": {
    "hidden": true
   },
   "outputs": [],
   "source": [
    "for ix in range(0,10000,5000):\n",
    "    if not osp.exists(f\"/data/vision/polina/scratch/clintonw/datasets/inrnet/cifar10_test/siren_{ix+999}.pt\"):\n",
    "        print(\"sh fit_inr.sh\", f\"cit{ix//5000}\", \"fit_ciftest\", ix)\n",
    "for ix in range(0,50000,5000):\n",
    "    if not osp.exists(f\"/data/vision/polina/scratch/clintonw/datasets/inrnet/cifar10_train/siren_{ix+999}.pt\"):\n",
    "        print(\"sh fit_inr.sh\", f\"cif{ix//5000}\", \"fit_cifar\", ix)"
   ]
  },
  {
   "cell_type": "code",
   "execution_count": null,
   "id": "dfc4a6a4",
   "metadata": {
    "hidden": true
   },
   "outputs": [],
   "source": [
    "img = plt.imread(\"/data/vision/polina/scratch/clintonw/datasets/inrnet/horse2zebra/testA/n02381460_9260.jpg\")"
   ]
  },
  {
   "cell_type": "code",
   "execution_count": null,
   "id": "f6392169",
   "metadata": {
    "hidden": true
   },
   "outputs": [],
   "source": [
    "\"/data/vision/polina/scratch/clintonw/datasets/coco/annotations/panoptic_train2017\""
   ]
  },
  {
   "cell_type": "code",
   "execution_count": null,
   "id": "26693f19",
   "metadata": {
    "hidden": true
   },
   "outputs": [],
   "source": [
    "osp.exists(f\"/data/vision/polina/users/clintonw/code/diffcoord/temp/kitti/siren_{ix+63}.pt\")"
   ]
  },
  {
   "cell_type": "code",
   "execution_count": 60,
   "id": "201b45c6",
   "metadata": {
    "hidden": true
   },
   "outputs": [],
   "source": [
    "paths = util.glob2(\"/data/vision/polina/scratch/clintonw/datasets/inrnet/inet12/1/loss_*\")"
   ]
  },
  {
   "cell_type": "code",
   "execution_count": 21,
   "id": "ed86d162",
   "metadata": {
    "hidden": true
   },
   "outputs": [],
   "source": [
    "paths = util.glob2(\"/data/vision/polina/scratch/clintonw/datasets/inrnet/inet12/0/loss_train_*\")\n",
    "losses = []\n",
    "for p in paths:\n",
    "    losses.append(float((open(p,'r').read())))"
   ]
  },
  {
   "cell_type": "code",
   "execution_count": 17,
   "id": "9ecc1d40",
   "metadata": {
    "hidden": true
   },
   "outputs": [],
   "source": [
    "paths = [f\"/data/vision/polina/scratch/clintonw/datasets/inrnet/inet12/0/loss_test_{ix}.txt\" for ix in range(800)]\n",
    "losses = []\n",
    "for p in paths:\n",
    "    losses.append(float((open(p,'r').read())))"
   ]
  },
  {
   "cell_type": "code",
   "execution_count": 28,
   "id": "aee1fed6",
   "metadata": {
    "hidden": true
   },
   "outputs": [],
   "source": [
    "paths = [f\"/data/vision/polina/scratch/clintonw/datasets/inrnet/cityscapes/loss_train_{ix}.txt\" for ix in range(800)]\n",
    "losses = []\n",
    "for p in paths:\n",
    "    losses.append(float((open(p,'r').read())))"
   ]
  },
  {
   "cell_type": "code",
   "execution_count": null,
   "id": "6b39eaa9",
   "metadata": {
    "hidden": true
   },
   "outputs": [
    {
     "data": {
      "text/plain": [
       "3.642220564870513"
      ]
     },
     "execution_count": 32,
     "metadata": {},
     "output_type": "execute_result"
    }
   ],
   "source": [
    "np.mean(losses)*1e4"
   ]
  }
 ],
 "metadata": {
  "interpreter": {
   "hash": "e98fdb75ce834af7fd6a81408a69cc1e92c0e30c1a14805591ae7a5d4b633a50"
  },
  "kernelspec": {
   "display_name": "Python 3.10.3 ('cuda11')",
   "language": "python",
   "name": "python3"
  },
  "language_info": {
   "codemirror_mode": {
    "name": "ipython",
    "version": 3
   },
   "file_extension": ".py",
   "mimetype": "text/x-python",
   "name": "python",
   "nbconvert_exporter": "python",
   "pygments_lexer": "ipython3",
   "version": "3.10.3 (main, Mar 28 2022, 09:30:03) [GCC 7.5.0]"
  }
 },
 "nbformat": 4,
 "nbformat_minor": 5
}
